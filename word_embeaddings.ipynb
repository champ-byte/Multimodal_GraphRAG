{
 "cells": [
  {
   "cell_type": "code",
   "execution_count": 6,
   "id": "49c2a570-5937-4eca-8210-0d933e68f51d",
   "metadata": {},
   "outputs": [
    {
     "name": "stdout",
     "output_type": "stream",
     "text": [
      "Requirement already satisfied: sentence-transformers in c:\\users\\asus\\onedrive\\desktop\\jbooks\\venv\\lib\\site-packages (5.1.0)\n",
      "Requirement already satisfied: transformers<5.0.0,>=4.41.0 in c:\\users\\asus\\onedrive\\desktop\\jbooks\\venv\\lib\\site-packages (from sentence-transformers) (4.56.0)\n",
      "Requirement already satisfied: tqdm in c:\\users\\asus\\onedrive\\desktop\\jbooks\\venv\\lib\\site-packages (from sentence-transformers) (4.67.1)\n",
      "Requirement already satisfied: torch>=1.11.0 in c:\\users\\asus\\onedrive\\desktop\\jbooks\\venv\\lib\\site-packages (from sentence-transformers) (2.8.0)\n",
      "Requirement already satisfied: scikit-learn in c:\\users\\asus\\onedrive\\desktop\\jbooks\\venv\\lib\\site-packages (from sentence-transformers) (1.7.1)\n",
      "Requirement already satisfied: scipy in c:\\users\\asus\\onedrive\\desktop\\jbooks\\venv\\lib\\site-packages (from sentence-transformers) (1.16.1)\n",
      "Requirement already satisfied: huggingface-hub>=0.20.0 in c:\\users\\asus\\onedrive\\desktop\\jbooks\\venv\\lib\\site-packages (from sentence-transformers) (0.34.4)\n",
      "Requirement already satisfied: Pillow in c:\\users\\asus\\onedrive\\desktop\\jbooks\\venv\\lib\\site-packages (from sentence-transformers) (11.3.0)\n",
      "Requirement already satisfied: typing_extensions>=4.5.0 in c:\\users\\asus\\onedrive\\desktop\\jbooks\\venv\\lib\\site-packages (from sentence-transformers) (4.15.0)\n",
      "Requirement already satisfied: filelock in c:\\users\\asus\\onedrive\\desktop\\jbooks\\venv\\lib\\site-packages (from huggingface-hub>=0.20.0->sentence-transformers) (3.19.1)\n",
      "Requirement already satisfied: fsspec>=2023.5.0 in c:\\users\\asus\\onedrive\\desktop\\jbooks\\venv\\lib\\site-packages (from huggingface-hub>=0.20.0->sentence-transformers) (2025.7.0)\n",
      "Requirement already satisfied: packaging>=20.9 in c:\\users\\asus\\onedrive\\desktop\\jbooks\\venv\\lib\\site-packages (from huggingface-hub>=0.20.0->sentence-transformers) (25.0)\n",
      "Requirement already satisfied: pyyaml>=5.1 in c:\\users\\asus\\onedrive\\desktop\\jbooks\\venv\\lib\\site-packages (from huggingface-hub>=0.20.0->sentence-transformers) (6.0.2)\n",
      "Requirement already satisfied: requests in c:\\users\\asus\\onedrive\\desktop\\jbooks\\venv\\lib\\site-packages (from huggingface-hub>=0.20.0->sentence-transformers) (2.32.5)\n",
      "Requirement already satisfied: sympy>=1.13.3 in c:\\users\\asus\\onedrive\\desktop\\jbooks\\venv\\lib\\site-packages (from torch>=1.11.0->sentence-transformers) (1.14.0)\n",
      "Requirement already satisfied: networkx in c:\\users\\asus\\onedrive\\desktop\\jbooks\\venv\\lib\\site-packages (from torch>=1.11.0->sentence-transformers) (3.5)\n",
      "Requirement already satisfied: jinja2 in c:\\users\\asus\\onedrive\\desktop\\jbooks\\venv\\lib\\site-packages (from torch>=1.11.0->sentence-transformers) (3.1.6)\n",
      "Requirement already satisfied: setuptools in c:\\users\\asus\\onedrive\\desktop\\jbooks\\venv\\lib\\site-packages (from torch>=1.11.0->sentence-transformers) (80.9.0)\n",
      "Requirement already satisfied: colorama in c:\\users\\asus\\onedrive\\desktop\\jbooks\\venv\\lib\\site-packages (from tqdm->sentence-transformers) (0.4.6)\n",
      "Requirement already satisfied: numpy>=1.17 in c:\\users\\asus\\onedrive\\desktop\\jbooks\\venv\\lib\\site-packages (from transformers<5.0.0,>=4.41.0->sentence-transformers) (2.3.2)\n",
      "Requirement already satisfied: regex!=2019.12.17 in c:\\users\\asus\\onedrive\\desktop\\jbooks\\venv\\lib\\site-packages (from transformers<5.0.0,>=4.41.0->sentence-transformers) (2025.8.29)\n",
      "Requirement already satisfied: tokenizers<=0.23.0,>=0.22.0 in c:\\users\\asus\\onedrive\\desktop\\jbooks\\venv\\lib\\site-packages (from transformers<5.0.0,>=4.41.0->sentence-transformers) (0.22.0)\n",
      "Requirement already satisfied: safetensors>=0.4.3 in c:\\users\\asus\\onedrive\\desktop\\jbooks\\venv\\lib\\site-packages (from transformers<5.0.0,>=4.41.0->sentence-transformers) (0.6.2)\n",
      "Requirement already satisfied: joblib>=1.2.0 in c:\\users\\asus\\onedrive\\desktop\\jbooks\\venv\\lib\\site-packages (from scikit-learn->sentence-transformers) (1.5.2)\n",
      "Requirement already satisfied: threadpoolctl>=3.1.0 in c:\\users\\asus\\onedrive\\desktop\\jbooks\\venv\\lib\\site-packages (from scikit-learn->sentence-transformers) (3.6.0)\n",
      "Requirement already satisfied: mpmath<1.4,>=1.1.0 in c:\\users\\asus\\onedrive\\desktop\\jbooks\\venv\\lib\\site-packages (from sympy>=1.13.3->torch>=1.11.0->sentence-transformers) (1.3.0)\n",
      "Requirement already satisfied: MarkupSafe>=2.0 in c:\\users\\asus\\onedrive\\desktop\\jbooks\\venv\\lib\\site-packages (from jinja2->torch>=1.11.0->sentence-transformers) (3.0.2)\n",
      "Requirement already satisfied: charset_normalizer<4,>=2 in c:\\users\\asus\\onedrive\\desktop\\jbooks\\venv\\lib\\site-packages (from requests->huggingface-hub>=0.20.0->sentence-transformers) (3.4.3)\n",
      "Requirement already satisfied: idna<4,>=2.5 in c:\\users\\asus\\onedrive\\desktop\\jbooks\\venv\\lib\\site-packages (from requests->huggingface-hub>=0.20.0->sentence-transformers) (3.10)\n",
      "Requirement already satisfied: urllib3<3,>=1.21.1 in c:\\users\\asus\\onedrive\\desktop\\jbooks\\venv\\lib\\site-packages (from requests->huggingface-hub>=0.20.0->sentence-transformers) (2.5.0)\n",
      "Requirement already satisfied: certifi>=2017.4.17 in c:\\users\\asus\\onedrive\\desktop\\jbooks\\venv\\lib\\site-packages (from requests->huggingface-hub>=0.20.0->sentence-transformers) (2025.8.3)\n"
     ]
    },
    {
     "name": "stderr",
     "output_type": "stream",
     "text": [
      "\n",
      "[notice] A new release of pip is available: 24.3.1 -> 25.2\n",
      "[notice] To update, run: python.exe -m pip install --upgrade pip\n"
     ]
    },
    {
     "name": "stdout",
     "output_type": "stream",
     "text": [
      "Requirement already satisfied: pandas in c:\\users\\asus\\onedrive\\desktop\\jbooks\\venv\\lib\\site-packages (2.3.2)\n",
      "Requirement already satisfied: numpy>=1.26.0 in c:\\users\\asus\\onedrive\\desktop\\jbooks\\venv\\lib\\site-packages (from pandas) (2.3.2)\n",
      "Requirement already satisfied: python-dateutil>=2.8.2 in c:\\users\\asus\\onedrive\\desktop\\jbooks\\venv\\lib\\site-packages (from pandas) (2.9.0.post0)\n",
      "Requirement already satisfied: pytz>=2020.1 in c:\\users\\asus\\onedrive\\desktop\\jbooks\\venv\\lib\\site-packages (from pandas) (2025.2)\n",
      "Requirement already satisfied: tzdata>=2022.7 in c:\\users\\asus\\onedrive\\desktop\\jbooks\\venv\\lib\\site-packages (from pandas) (2025.2)\n",
      "Requirement already satisfied: six>=1.5 in c:\\users\\asus\\onedrive\\desktop\\jbooks\\venv\\lib\\site-packages (from python-dateutil>=2.8.2->pandas) (1.17.0)\n"
     ]
    },
    {
     "name": "stderr",
     "output_type": "stream",
     "text": [
      "\n",
      "[notice] A new release of pip is available: 24.3.1 -> 25.2\n",
      "[notice] To update, run: python.exe -m pip install --upgrade pip\n"
     ]
    },
    {
     "name": "stdout",
     "output_type": "stream",
     "text": [
      "Requirement already satisfied: faiss-cpu in c:\\users\\asus\\onedrive\\desktop\\jbooks\\venv\\lib\\site-packages (1.12.0)\n",
      "Requirement already satisfied: numpy<3.0,>=1.25.0 in c:\\users\\asus\\onedrive\\desktop\\jbooks\\venv\\lib\\site-packages (from faiss-cpu) (2.3.2)\n",
      "Requirement already satisfied: packaging in c:\\users\\asus\\onedrive\\desktop\\jbooks\\venv\\lib\\site-packages (from faiss-cpu) (25.0)\n"
     ]
    },
    {
     "name": "stderr",
     "output_type": "stream",
     "text": [
      "\n",
      "[notice] A new release of pip is available: 24.3.1 -> 25.2\n",
      "[notice] To update, run: python.exe -m pip install --upgrade pip\n"
     ]
    },
    {
     "name": "stdout",
     "output_type": "stream",
     "text": [
      "Requirement already satisfied: numpy in c:\\users\\asus\\onedrive\\desktop\\jbooks\\venv\\lib\\site-packages (2.3.2)\n"
     ]
    },
    {
     "name": "stderr",
     "output_type": "stream",
     "text": [
      "\n",
      "[notice] A new release of pip is available: 24.3.1 -> 25.2\n",
      "[notice] To update, run: python.exe -m pip install --upgrade pip\n"
     ]
    }
   ],
   "source": [
    "!pip install sentence-transformers\n",
    "!pip install pandas\n",
    "!pip install faiss-cpu\n",
    "!pip install numpy"
   ]
  },
  {
   "cell_type": "code",
   "execution_count": 7,
   "id": "60094baa-1c65-4536-bb4b-98fdc6a0c8f6",
   "metadata": {},
   "outputs": [],
   "source": [
    "from sentence_transformers import SentenceTransformer\n",
    "import pandas as pd\n",
    "import faiss\n",
    "import numpy as np\n",
    "\n",
    "data = [['Where are your headquarters located?', 'location'],\n",
    "['Throw my cellphone in the water', 'random'],\n",
    "['Network Access Control?', 'networking'],\n",
    "['Address', 'location']]\n",
    "\n",
    "df = pd.DataFrame(data, columns = ['text', 'category'])"
   ]
  },
  {
   "cell_type": "code",
   "execution_count": 5,
   "id": "1eab22e7-a545-4b6e-8e1f-3725b6d94393",
   "metadata": {},
   "outputs": [
    {
     "name": "stdout",
     "output_type": "stream",
     "text": [
      "Collecting pandas\n",
      "  Downloading pandas-2.3.2-cp313-cp313-win_amd64.whl.metadata (19 kB)\n",
      "Requirement already satisfied: numpy>=1.26.0 in c:\\users\\asus\\onedrive\\desktop\\jbooks\\venv\\lib\\site-packages (from pandas) (2.3.2)\n",
      "Requirement already satisfied: python-dateutil>=2.8.2 in c:\\users\\asus\\onedrive\\desktop\\jbooks\\venv\\lib\\site-packages (from pandas) (2.9.0.post0)\n",
      "Collecting pytz>=2020.1 (from pandas)\n",
      "  Using cached pytz-2025.2-py2.py3-none-any.whl.metadata (22 kB)\n",
      "Collecting tzdata>=2022.7 (from pandas)\n",
      "  Using cached tzdata-2025.2-py2.py3-none-any.whl.metadata (1.4 kB)\n",
      "Requirement already satisfied: six>=1.5 in c:\\users\\asus\\onedrive\\desktop\\jbooks\\venv\\lib\\site-packages (from python-dateutil>=2.8.2->pandas) (1.17.0)\n",
      "Downloading pandas-2.3.2-cp313-cp313-win_amd64.whl (11.0 MB)\n",
      "   ---------------------------------------- 0.0/11.0 MB ? eta -:--:--\n",
      "   ---------------------------------------- 0.0/11.0 MB ? eta -:--:--\n",
      "    --------------------------------------- 0.3/11.0 MB ? eta -:--:--\n",
      "   - -------------------------------------- 0.5/11.0 MB 924.7 kB/s eta 0:00:12\n",
      "   -- ------------------------------------- 0.8/11.0 MB 1.1 MB/s eta 0:00:10\n",
      "   --- ------------------------------------ 1.0/11.0 MB 1.2 MB/s eta 0:00:09\n",
      "   ----- ---------------------------------- 1.6/11.0 MB 1.5 MB/s eta 0:00:07\n",
      "   ------ --------------------------------- 1.8/11.0 MB 1.5 MB/s eta 0:00:07\n",
      "   ------- -------------------------------- 2.1/11.0 MB 1.5 MB/s eta 0:00:06\n",
      "   --------- ------------------------------ 2.6/11.0 MB 1.6 MB/s eta 0:00:06\n",
      "   ------------ --------------------------- 3.4/11.0 MB 1.8 MB/s eta 0:00:05\n",
      "   -------------- ------------------------- 3.9/11.0 MB 1.9 MB/s eta 0:00:04\n",
      "   --------------- ------------------------ 4.2/11.0 MB 1.8 MB/s eta 0:00:04\n",
      "   ------------------ --------------------- 5.0/11.0 MB 2.0 MB/s eta 0:00:04\n",
      "   -------------------- ------------------- 5.5/11.0 MB 2.0 MB/s eta 0:00:03\n",
      "   ---------------------- ----------------- 6.3/11.0 MB 2.2 MB/s eta 0:00:03\n",
      "   ------------------------- -------------- 7.1/11.0 MB 2.3 MB/s eta 0:00:02\n",
      "   ----------------------------- ---------- 8.1/11.0 MB 2.4 MB/s eta 0:00:02\n",
      "   -------------------------------- ------- 8.9/11.0 MB 2.6 MB/s eta 0:00:01\n",
      "   ----------------------------------- ---- 9.7/11.0 MB 2.6 MB/s eta 0:00:01\n",
      "   -------------------------------------- - 10.5/11.0 MB 2.7 MB/s eta 0:00:01\n",
      "   ---------------------------------------- 11.0/11.0 MB 2.7 MB/s eta 0:00:00\n",
      "Using cached pytz-2025.2-py2.py3-none-any.whl (509 kB)\n",
      "Using cached tzdata-2025.2-py2.py3-none-any.whl (347 kB)\n",
      "Installing collected packages: pytz, tzdata, pandas\n",
      "Successfully installed pandas-2.3.2 pytz-2025.2 tzdata-2025.2\n"
     ]
    },
    {
     "name": "stderr",
     "output_type": "stream",
     "text": [
      "\n",
      "[notice] A new release of pip is available: 24.3.1 -> 25.2\n",
      "[notice] To update, run: python.exe -m pip install --upgrade pip\n"
     ]
    }
   ],
   "source": []
  },
  {
   "cell_type": "code",
   "execution_count": 8,
   "id": "16f3934d-d1f7-4b4c-bd77-c48702e8d811",
   "metadata": {},
   "outputs": [
    {
     "data": {
      "text/html": [
       "<div>\n",
       "<style scoped>\n",
       "    .dataframe tbody tr th:only-of-type {\n",
       "        vertical-align: middle;\n",
       "    }\n",
       "\n",
       "    .dataframe tbody tr th {\n",
       "        vertical-align: top;\n",
       "    }\n",
       "\n",
       "    .dataframe thead th {\n",
       "        text-align: right;\n",
       "    }\n",
       "</style>\n",
       "<table border=\"1\" class=\"dataframe\">\n",
       "  <thead>\n",
       "    <tr style=\"text-align: right;\">\n",
       "      <th></th>\n",
       "      <th>text</th>\n",
       "      <th>category</th>\n",
       "    </tr>\n",
       "  </thead>\n",
       "  <tbody>\n",
       "    <tr>\n",
       "      <th>0</th>\n",
       "      <td>Where are your headquarters located?</td>\n",
       "      <td>location</td>\n",
       "    </tr>\n",
       "    <tr>\n",
       "      <th>1</th>\n",
       "      <td>Throw my cellphone in the water</td>\n",
       "      <td>random</td>\n",
       "    </tr>\n",
       "    <tr>\n",
       "      <th>2</th>\n",
       "      <td>Network Access Control?</td>\n",
       "      <td>networking</td>\n",
       "    </tr>\n",
       "    <tr>\n",
       "      <th>3</th>\n",
       "      <td>Address</td>\n",
       "      <td>location</td>\n",
       "    </tr>\n",
       "  </tbody>\n",
       "</table>\n",
       "</div>"
      ],
      "text/plain": [
       "                                   text    category\n",
       "0  Where are your headquarters located?    location\n",
       "1       Throw my cellphone in the water      random\n",
       "2               Network Access Control?  networking\n",
       "3                               Address    location"
      ]
     },
     "execution_count": 8,
     "metadata": {},
     "output_type": "execute_result"
    }
   ],
   "source": [
    "df\n"
   ]
  },
  {
   "cell_type": "code",
   "execution_count": 9,
   "id": "56108a83-78c2-4889-bc52-f36f025c5900",
   "metadata": {},
   "outputs": [
    {
     "data": {
      "application/vnd.jupyter.widget-view+json": {
       "model_id": "c1869f3a1a03467db8b47bcc36c0190f",
       "version_major": 2,
       "version_minor": 0
      },
      "text/plain": [
       "modules.json:   0%|          | 0.00/229 [00:00<?, ?B/s]"
      ]
     },
     "metadata": {},
     "output_type": "display_data"
    },
    {
     "name": "stderr",
     "output_type": "stream",
     "text": [
      "C:\\Users\\ASUS\\OneDrive\\Desktop\\jbooks\\venv\\Lib\\site-packages\\huggingface_hub\\file_download.py:143: UserWarning: `huggingface_hub` cache-system uses symlinks by default to efficiently store duplicated files but your machine does not support them in C:\\Users\\ASUS\\.cache\\huggingface\\hub\\models--sentence-transformers--paraphrase-mpnet-base-v2. Caching files will still work but in a degraded version that might require more space on your disk. This warning can be disabled by setting the `HF_HUB_DISABLE_SYMLINKS_WARNING` environment variable. For more details, see https://huggingface.co/docs/huggingface_hub/how-to-cache#limitations.\n",
      "To support symlinks on Windows, you either need to activate Developer Mode or to run Python as an administrator. In order to activate developer mode, see this article: https://docs.microsoft.com/en-us/windows/apps/get-started/enable-your-device-for-development\n",
      "  warnings.warn(message)\n"
     ]
    },
    {
     "data": {
      "application/vnd.jupyter.widget-view+json": {
       "model_id": "a6efb46d5b254d469e85cbf8d14ef999",
       "version_major": 2,
       "version_minor": 0
      },
      "text/plain": [
       "config_sentence_transformers.json:   0%|          | 0.00/122 [00:00<?, ?B/s]"
      ]
     },
     "metadata": {},
     "output_type": "display_data"
    },
    {
     "data": {
      "application/vnd.jupyter.widget-view+json": {
       "model_id": "8c5cf356ac4f43a193ac93a4bfe53a71",
       "version_major": 2,
       "version_minor": 0
      },
      "text/plain": [
       "README.md: 0.00B [00:00, ?B/s]"
      ]
     },
     "metadata": {},
     "output_type": "display_data"
    },
    {
     "data": {
      "application/vnd.jupyter.widget-view+json": {
       "model_id": "52b9348628cf4aea996b92b8eb71e283",
       "version_major": 2,
       "version_minor": 0
      },
      "text/plain": [
       "sentence_bert_config.json:   0%|          | 0.00/53.0 [00:00<?, ?B/s]"
      ]
     },
     "metadata": {},
     "output_type": "display_data"
    },
    {
     "data": {
      "application/vnd.jupyter.widget-view+json": {
       "model_id": "1fd10b2bc5474c8594c08b3910586f65",
       "version_major": 2,
       "version_minor": 0
      },
      "text/plain": [
       "config.json:   0%|          | 0.00/594 [00:00<?, ?B/s]"
      ]
     },
     "metadata": {},
     "output_type": "display_data"
    },
    {
     "name": "stderr",
     "output_type": "stream",
     "text": [
      "Xet Storage is enabled for this repo, but the 'hf_xet' package is not installed. Falling back to regular HTTP download. For better performance, install the package with: `pip install huggingface_hub[hf_xet]` or `pip install hf_xet`\n"
     ]
    },
    {
     "data": {
      "application/vnd.jupyter.widget-view+json": {
       "model_id": "bf51a34c693842b7a6147676737f1fb3",
       "version_major": 2,
       "version_minor": 0
      },
      "text/plain": [
       "model.safetensors:   0%|          | 0.00/438M [00:00<?, ?B/s]"
      ]
     },
     "metadata": {},
     "output_type": "display_data"
    },
    {
     "data": {
      "application/vnd.jupyter.widget-view+json": {
       "model_id": "6d1ae717410a4022b3ef4371072c8642",
       "version_major": 2,
       "version_minor": 0
      },
      "text/plain": [
       "tokenizer_config.json: 0.00B [00:00, ?B/s]"
      ]
     },
     "metadata": {},
     "output_type": "display_data"
    },
    {
     "data": {
      "application/vnd.jupyter.widget-view+json": {
       "model_id": "ab6ef62f1e8840e69561c107693d3cb9",
       "version_major": 2,
       "version_minor": 0
      },
      "text/plain": [
       "vocab.txt: 0.00B [00:00, ?B/s]"
      ]
     },
     "metadata": {},
     "output_type": "display_data"
    },
    {
     "data": {
      "application/vnd.jupyter.widget-view+json": {
       "model_id": "e10819c4348f4279b280762c64d3a16a",
       "version_major": 2,
       "version_minor": 0
      },
      "text/plain": [
       "tokenizer.json: 0.00B [00:00, ?B/s]"
      ]
     },
     "metadata": {},
     "output_type": "display_data"
    },
    {
     "data": {
      "application/vnd.jupyter.widget-view+json": {
       "model_id": "f9e7760903ef4c3da0003d86476a2400",
       "version_major": 2,
       "version_minor": 0
      },
      "text/plain": [
       "special_tokens_map.json:   0%|          | 0.00/239 [00:00<?, ?B/s]"
      ]
     },
     "metadata": {},
     "output_type": "display_data"
    },
    {
     "data": {
      "application/vnd.jupyter.widget-view+json": {
       "model_id": "eea17a465477411bbb01fbd792684662",
       "version_major": 2,
       "version_minor": 0
      },
      "text/plain": [
       "config.json:   0%|          | 0.00/190 [00:00<?, ?B/s]"
      ]
     },
     "metadata": {},
     "output_type": "display_data"
    }
   ],
   "source": [
    "text = df['text']\n",
    "encoder = SentenceTransformer(\"paraphrase-mpnet-base-v2\")\n",
    "vectors = encoder.encode(text)"
   ]
  },
  {
   "cell_type": "code",
   "execution_count": 10,
   "id": "f3edeb27-6259-4fbd-8b25-b83c08af14ee",
   "metadata": {},
   "outputs": [],
   "source": [
    "vector_dimension = vectors.shape[1]\n",
    "index = faiss.IndexFlatL2(vector_dimension)\n",
    "faiss.normalize_L2(vectors)\n",
    "index.add(vectors)"
   ]
  },
  {
   "cell_type": "code",
   "execution_count": 17,
   "id": "e890355f-a361-4b3c-9b61-b12d2da24be4",
   "metadata": {},
   "outputs": [],
   "source": [
    "search_text = 'what is your network control?'\n",
    "search_vector = encoder.encode(search_text)\n",
    "_vector = np.array([search_vector])\n",
    "faiss.normalize_L2(_vector)\n"
   ]
  },
  {
   "cell_type": "code",
   "execution_count": 18,
   "id": "f1c6f374-4158-4fe6-86d0-5c5f682166b0",
   "metadata": {},
   "outputs": [
    {
     "data": {
      "text/plain": [
       "array([-5.19965291e-02, -8.86465833e-02, -9.64793041e-02, -5.58406673e-02,\n",
       "       -3.47914211e-02,  3.78184691e-02,  1.23202279e-01, -2.13498503e-01,\n",
       "        2.11082567e-02, -1.82666183e-01,  8.15337598e-02, -7.95197710e-02,\n",
       "       -7.90947974e-02,  2.11767301e-01,  9.14703906e-02,  5.18624075e-02,\n",
       "        5.54894134e-02,  1.58367679e-01, -1.41941607e-02,  1.46721229e-01,\n",
       "       -2.53245197e-02,  1.32935506e-03,  8.31874758e-02, -8.42913091e-02,\n",
       "       -9.82618630e-02, -1.55900434e-01,  1.31605282e-01,  1.21032797e-01,\n",
       "        1.66306496e-01,  2.61507779e-02,  1.81773558e-01,  7.60687143e-02,\n",
       "        4.20644134e-02, -1.20825902e-01,  1.39594991e-02,  1.10951960e-01,\n",
       "       -7.43290260e-02,  6.72281086e-02, -1.07524395e-01,  2.76803613e-01,\n",
       "        1.37776166e-01, -1.54044749e-02, -2.71171518e-02, -8.94329846e-02,\n",
       "        3.93930860e-02,  7.64922798e-02,  7.37738982e-02,  2.41808563e-01,\n",
       "        9.36245248e-02,  2.32755750e-01, -8.46148282e-03,  1.16495043e-01,\n",
       "       -1.46199852e-01,  1.03092931e-01, -4.43078615e-02, -2.34767675e-01,\n",
       "        6.66863620e-02,  2.54496396e-01,  1.40195504e-01, -1.70079432e-02,\n",
       "       -8.32153261e-02, -1.28133550e-01, -5.15784509e-03, -6.19592443e-02,\n",
       "        1.17930301e-01, -5.91996685e-03,  2.14235216e-01, -1.80602804e-01,\n",
       "        2.84409616e-02, -1.69731200e-01, -5.81793413e-02, -4.61781211e-02,\n",
       "        1.58336461e-01,  1.01366015e-02, -1.38818190e-01,  4.92147021e-02,\n",
       "        5.17560281e-02, -1.87007070e-01, -1.42640889e-01,  7.33735263e-02,\n",
       "       -4.83628847e-02,  1.18532993e-01, -1.02416515e-01, -9.32998210e-02,\n",
       "       -2.07391679e-01,  1.30706146e-01,  1.25219882e-01, -2.80221645e-02,\n",
       "       -2.30754279e-02,  1.97568581e-01,  3.19781214e-01, -2.21093185e-02,\n",
       "        1.78913340e-01, -1.61492638e-02, -5.76419719e-02, -9.20493156e-03,\n",
       "        1.00876413e-01,  1.39597908e-01,  8.62702914e-03,  1.87927634e-01,\n",
       "       -2.54802823e-01,  3.32446843e-02,  1.42113656e-01,  3.67718935e-02,\n",
       "        1.40844434e-01, -1.96461290e-01, -2.30197966e-01,  1.19877085e-01,\n",
       "        6.03624173e-02, -1.22524917e-01, -3.62510644e-02, -1.60579726e-01,\n",
       "        7.74996206e-02,  1.20730869e-01,  1.44994065e-01,  1.13179171e-02,\n",
       "        4.25482020e-02,  3.19272391e-02,  1.31080851e-01, -2.58448236e-02,\n",
       "        2.01694295e-01, -7.15816692e-02,  1.19630322e-01, -2.59889886e-02,\n",
       "        2.66441088e-02, -1.78115238e-02, -6.58308938e-02,  7.01271966e-02,\n",
       "       -9.73546058e-02, -1.21746175e-02, -2.43812986e-02, -2.63931096e-01,\n",
       "        1.89753957e-02,  2.93105468e-03, -4.91315797e-02, -7.35369930e-03,\n",
       "       -4.89409156e-02, -1.44899905e-01,  5.74572273e-02, -2.48345789e-02,\n",
       "        9.83975530e-02,  5.55172339e-02, -3.62725630e-02,  4.33848426e-02,\n",
       "        9.77501124e-02, -4.75555882e-02, -1.62516356e-01,  9.43653286e-03,\n",
       "       -3.53046395e-02, -8.31998438e-02, -4.51895408e-02, -2.37082727e-02,\n",
       "        1.71819367e-02, -1.00106224e-01,  7.58161470e-02,  2.23070793e-02,\n",
       "        1.85670644e-01, -1.36904627e-01, -1.03571638e-01, -4.13921699e-02,\n",
       "        1.04550153e-01,  1.99883819e-01,  6.54434487e-02,  8.88989959e-03,\n",
       "       -2.48700213e-02, -2.23500967e-01, -7.32323304e-02, -8.91407728e-02,\n",
       "       -4.82894629e-02, -2.56216735e-01, -8.69979709e-02,  6.99932650e-02,\n",
       "       -3.90554368e-02,  1.43569961e-01,  2.44976610e-01, -1.07043944e-01,\n",
       "        2.98119992e-01, -7.39482567e-02, -7.44972378e-02,  3.63898464e-04,\n",
       "       -3.62804323e-01, -1.54465884e-01, -1.29581854e-01,  3.54093790e-01,\n",
       "        1.32040679e-01,  2.52258293e-02,  3.66295241e-02,  1.40235066e-01,\n",
       "       -2.90682781e-02,  1.66613348e-02, -1.76494587e-02, -6.95215762e-02,\n",
       "       -2.44229704e-01,  1.15018517e-01,  2.81766392e-02,  1.18157692e-01,\n",
       "        3.30919325e-02, -1.35991529e-01,  4.58552316e-03, -8.64263698e-02,\n",
       "        5.74329011e-02, -1.31311297e-01, -1.51248634e-01,  7.78265670e-02,\n",
       "        6.79975003e-02, -1.09791066e-02, -9.41981226e-02,  3.96357849e-03,\n",
       "        1.52608290e-01, -1.17321275e-02,  2.91094840e-01,  1.24136850e-01,\n",
       "       -1.07916566e-02, -5.41395741e-03, -4.52324674e-02,  1.42064676e-01,\n",
       "        1.29150957e-01,  1.14215054e-01, -2.83315629e-01, -9.96380299e-03,\n",
       "       -1.08223762e-02,  1.07849233e-01, -1.40773907e-01,  1.24179758e-02,\n",
       "        9.98448357e-02, -5.30002080e-03, -6.63580298e-02, -1.40285818e-02,\n",
       "       -1.33770272e-01, -1.00095913e-01, -1.56190515e-01,  4.99330647e-02,\n",
       "       -1.07848749e-01, -6.00146875e-02, -1.47372171e-01, -1.07184075e-01,\n",
       "       -4.11096662e-02,  1.73802286e-01,  8.50926712e-02, -2.22797111e-01,\n",
       "        4.84664440e-02,  1.33394197e-01, -8.04443136e-02, -1.67095706e-01,\n",
       "        1.87581807e-01,  1.01574101e-01, -5.76320477e-02,  2.80303378e-02,\n",
       "       -1.44858181e-01,  3.34230326e-02,  8.35924689e-03, -1.12015121e-01,\n",
       "       -2.06969324e-02,  1.54551759e-01, -1.44346759e-01,  5.33413552e-02,\n",
       "       -4.97063715e-03,  5.03746271e-02, -6.38295040e-02,  4.08356190e-02,\n",
       "        3.03706480e-03,  6.75656199e-02,  1.23207960e-02, -2.37477813e-02,\n",
       "       -7.02407584e-02,  4.85215057e-03,  9.53285694e-02,  7.04050660e-02,\n",
       "        9.50667560e-02, -2.31128521e-02,  6.77576363e-02,  1.59586579e-01,\n",
       "       -1.82147436e-02, -4.53252383e-02,  3.79489921e-02, -3.61512601e-03,\n",
       "       -1.81302071e-01, -1.63541019e-01, -1.17323875e-01,  6.48105294e-02,\n",
       "       -2.78264768e-02, -3.04807782e-01, -2.34504476e-01, -7.49178827e-02,\n",
       "        2.22754870e-02, -9.63350944e-03,  8.02251510e-03, -2.48312846e-01,\n",
       "        2.01948583e-01, -6.81857765e-02, -9.90374461e-02,  4.25266065e-02,\n",
       "       -6.10061660e-02, -7.94326216e-02,  1.13494098e-01, -2.26411745e-02,\n",
       "       -3.43661159e-01,  2.42604211e-01, -3.71379443e-02,  5.43030091e-02,\n",
       "        1.38668284e-01, -5.35030942e-03, -1.45781741e-01,  1.00403391e-01,\n",
       "       -9.60727781e-02,  1.87945478e-02,  7.30887204e-02, -5.92968166e-02,\n",
       "        1.01805754e-01,  2.55872935e-01,  2.51710176e-01, -1.48978438e-02,\n",
       "       -2.42913719e-02,  2.54029669e-02, -6.89736828e-02,  5.04193157e-02,\n",
       "       -1.24778375e-01, -2.30096672e-02, -9.98878255e-02,  2.31085613e-01,\n",
       "        1.15993775e-01, -3.93425021e-03, -9.92029812e-03,  6.11435063e-02,\n",
       "       -1.07346423e-01,  9.83370990e-02, -9.77519304e-02,  2.85268016e-02,\n",
       "        1.58257157e-01,  5.80323897e-02,  1.00466404e-02,  1.02343544e-01,\n",
       "       -1.23921512e-02, -4.32399847e-02, -1.56691775e-01,  1.42329872e-01,\n",
       "       -5.54611348e-02, -2.82938510e-01, -3.80549319e-02, -3.63844596e-02,\n",
       "       -2.63514072e-02, -8.62500817e-02,  6.14318252e-02,  2.59676754e-01,\n",
       "        1.25395432e-01,  5.52515918e-03,  2.53738433e-01,  3.28785814e-02,\n",
       "        1.45625249e-01, -1.90380234e-02,  2.39002138e-01,  1.09418787e-01,\n",
       "       -9.02910605e-02,  3.85550596e-02,  1.07497975e-01, -3.14424559e-03,\n",
       "       -7.13768974e-02,  1.37366951e-02, -7.97553435e-02,  1.34639874e-01,\n",
       "        9.59626436e-02, -6.60069361e-02,  3.02099995e-02, -1.83570832e-02,\n",
       "       -4.45011258e-02,  1.82806075e-01, -1.25072107e-01, -1.44836009e-02,\n",
       "        1.28389686e-01, -2.15562098e-02,  2.20614523e-01,  1.57026768e-01,\n",
       "        1.68090798e-02,  3.24331932e-02,  7.02589750e-02, -2.50938207e-01,\n",
       "       -3.54107134e-02, -1.98919550e-01, -1.78691924e-01,  3.13638523e-02,\n",
       "       -5.05599659e-03, -4.50731479e-02,  1.78303823e-01, -1.44955933e-01,\n",
       "       -1.11507270e-02,  2.24432256e-02, -2.36919433e-01,  1.48813729e-03,\n",
       "        1.46452308e-01, -2.32084110e-01,  9.65490565e-02, -1.52819410e-01,\n",
       "       -4.03722785e-02,  7.60890841e-02, -4.76071425e-02, -1.49395198e-01,\n",
       "        6.02560714e-02, -3.31003871e-03,  8.46690834e-02,  4.46234681e-02,\n",
       "        1.67131037e-01, -2.25324742e-02, -5.29033616e-02,  4.22214158e-02,\n",
       "       -9.12355632e-03,  2.69777656e-01, -7.31842816e-02,  4.03651148e-02,\n",
       "        7.00402400e-03, -3.18303332e-03,  2.88996488e-01, -1.92887932e-01,\n",
       "        9.26185399e-02,  1.31535739e-01, -1.53436959e-01, -4.41870764e-02,\n",
       "        4.60584089e-02, -8.15419406e-02,  9.14919972e-02,  1.04941875e-01,\n",
       "        2.24015061e-02, -6.34183586e-02,  2.33653635e-02, -1.22173224e-03,\n",
       "       -9.97774675e-03, -9.37847346e-02, -4.81090881e-02,  2.27428839e-01,\n",
       "        3.80881391e-02,  1.09501176e-01, -1.58563346e-01, -1.44973442e-01,\n",
       "       -1.11063965e-01, -1.28627509e-01, -2.57507078e-02, -1.94999263e-01,\n",
       "       -6.39964789e-02,  1.64322823e-01,  7.94313774e-02, -1.42078260e-02,\n",
       "        4.43894137e-03,  6.38246685e-02,  1.58209488e-01,  3.10250036e-02,\n",
       "       -8.65577683e-02,  3.39663237e-01,  1.07898368e-02, -3.90966050e-02,\n",
       "       -2.97388256e-01, -9.77952480e-02, -1.24692783e-01, -2.38515250e-02,\n",
       "        4.10723276e-02, -4.21454608e-02,  1.76058799e-01, -9.52465162e-02,\n",
       "        6.50814846e-02,  1.01933248e-01, -6.50373995e-02,  2.96483189e-02,\n",
       "        9.07018706e-02,  4.14336979e-01, -5.38544431e-02,  1.32187858e-01,\n",
       "       -2.41767794e-01,  1.01452574e-01,  5.15826456e-02, -1.14328161e-01,\n",
       "        4.96307425e-02,  2.48522107e-02, -9.58667099e-02, -1.08310089e-01,\n",
       "       -3.51785533e-02, -6.80565834e-02,  2.48807184e-02,  1.50157213e-01,\n",
       "       -4.73267632e-03,  3.56659442e-02,  1.05529964e-01, -3.84071395e-02,\n",
       "       -5.75572066e-02, -5.92356510e-02, -1.55357510e-01,  8.00684392e-02,\n",
       "        4.38743830e-02, -8.42917338e-02, -7.57097974e-02, -9.44578201e-02,\n",
       "       -5.66839334e-03, -5.68723939e-02,  1.49226701e-02, -5.29512390e-02,\n",
       "        8.73662904e-02, -5.31730093e-02,  5.97160384e-02, -3.55004594e-02,\n",
       "        1.33964494e-01, -9.20357928e-02, -4.01605338e-01,  6.57807812e-02,\n",
       "       -8.42223018e-02,  5.83798438e-02,  5.53881936e-02,  8.69670883e-02,\n",
       "        9.69737545e-02, -7.26730749e-02,  1.20757064e-02, -2.04125360e-01,\n",
       "        8.79244879e-02, -7.88941160e-02, -1.99678615e-01,  1.02703542e-01,\n",
       "        8.71538296e-02,  1.81045219e-01,  2.65948862e-01,  6.35352135e-02,\n",
       "        1.79454625e-01,  7.55654722e-02,  1.11719288e-01, -3.59982881e-03,\n",
       "        4.35655825e-02,  1.06336787e-01,  4.42628302e-02, -4.91232052e-02,\n",
       "        2.73117274e-01,  7.83607215e-02, -2.65340926e-03,  4.23273705e-02,\n",
       "        5.85051328e-02,  1.32558048e-02,  1.56909525e-01, -1.71053335e-02,\n",
       "       -2.46061027e-01, -1.44409269e-01, -5.68258166e-02,  1.57974645e-01,\n",
       "       -2.20095336e-01,  3.16255093e-01, -2.32598245e-01, -3.50441784e-02,\n",
       "       -1.35666952e-01,  1.02534406e-01,  5.30808009e-02,  6.96870983e-02,\n",
       "        2.11521149e-01,  4.21490557e-02,  7.28396177e-02, -1.71949700e-01,\n",
       "       -1.25426695e-01, -3.03879054e-03,  5.00066467e-02, -1.79107115e-01,\n",
       "       -4.03986014e-02,  2.29411304e-01, -1.17634162e-01, -1.01665176e-01,\n",
       "       -5.69755696e-02, -2.23966360e-01,  7.65890405e-02, -2.83614434e-02,\n",
       "       -8.83776098e-02, -1.17626943e-01, -2.77202651e-02,  9.27537531e-02,\n",
       "        1.63186863e-02, -8.40665959e-03, -3.14199179e-02,  1.48765296e-01,\n",
       "        1.70303032e-01,  3.73966098e-02, -9.76966247e-02, -1.39052302e-01,\n",
       "        8.64387006e-02, -8.40116367e-02,  8.60869363e-02, -3.65309417e-02,\n",
       "        4.69754003e-02,  1.20673522e-01, -2.88361553e-02, -1.86151206e-01,\n",
       "       -2.86503285e-02,  4.57306467e-02,  1.38900608e-01, -5.95084429e-02,\n",
       "       -2.63007611e-01, -4.83271368e-02,  1.53164715e-01,  4.15893793e-02,\n",
       "        2.51072403e-02, -8.49012583e-02,  7.11811483e-02,  2.93089569e-01,\n",
       "       -4.12524343e-02, -1.35450199e-01,  7.75623247e-02, -1.12172037e-01,\n",
       "        8.62987489e-02, -5.66765852e-02,  1.61097005e-01,  7.08923265e-02,\n",
       "       -1.80168778e-01, -7.38522112e-02, -2.70404499e-02,  8.74797255e-02,\n",
       "        3.17031480e-02,  1.09440207e-01, -3.52002755e-02, -1.64526731e-01,\n",
       "       -2.51285937e-02,  1.01726845e-01, -1.97318047e-01, -2.26616770e-01,\n",
       "       -1.05821356e-01, -2.11979434e-01, -2.07970306e-01, -6.21576570e-02,\n",
       "        6.43010288e-02,  4.10304628e-02, -1.52213126e-01,  9.40935910e-02,\n",
       "        6.74019307e-02, -4.26003784e-02, -3.58771652e-01,  1.06609337e-01,\n",
       "       -1.90330431e-01,  4.65761758e-02,  1.89312045e-02,  1.56377450e-01,\n",
       "       -5.15448861e-02, -8.08116123e-02, -2.05455199e-01, -3.17999423e-01,\n",
       "       -5.79592809e-02,  8.46392810e-02, -2.21310735e-01,  2.53937244e-01,\n",
       "       -7.71251880e-03,  9.94242132e-02,  9.06937569e-02,  1.01664141e-01,\n",
       "        2.65607405e-02, -2.22735241e-01, -3.47150005e-02, -2.82647144e-02,\n",
       "        1.73028484e-02,  2.51612235e-02, -3.50594431e-01,  1.16539828e-01,\n",
       "        7.06282109e-02, -4.46847938e-02,  9.70161930e-02,  8.73708427e-02,\n",
       "        7.95583352e-02, -2.03466043e-01,  4.09137718e-02, -1.24540254e-01,\n",
       "       -1.92367077e-01,  4.18222919e-02, -2.60720789e-01,  2.48727649e-01,\n",
       "       -2.49468791e-03, -6.27210736e-02,  1.46575663e-02,  1.95744261e-01,\n",
       "        1.68620259e-01,  7.19711110e-02, -1.72771409e-01, -4.36721966e-02,\n",
       "        4.60529067e-02, -4.62059639e-02, -2.41997913e-02, -7.07076192e-02,\n",
       "        1.77818254e-01,  4.05144729e-02, -1.03094447e-02, -3.57836396e-01,\n",
       "        9.15771797e-02,  3.31266880e-01, -1.90051347e-02, -8.26670080e-02,\n",
       "       -1.47238776e-01,  6.85938746e-02, -1.31104603e-01,  2.37014607e-01,\n",
       "        2.28945106e-01, -7.76173398e-02,  6.16225190e-02, -1.53694242e-01,\n",
       "        8.58239233e-02, -7.22501948e-02,  1.72989860e-01,  1.60445109e-01,\n",
       "        3.02618802e-01,  9.24119726e-02, -7.21361637e-02,  1.06806476e-02,\n",
       "       -3.59079689e-02, -8.43872949e-02, -1.88235357e-01,  3.33013246e-03,\n",
       "       -3.62072252e-02, -1.18247844e-01,  7.62308091e-02, -1.81632210e-02,\n",
       "        3.04641724e-02, -7.32068866e-02,  1.09338082e-01,  1.85096607e-01,\n",
       "        1.02386348e-01,  2.01573014e-01, -9.61655229e-02, -2.14572940e-02,\n",
       "       -2.31856797e-02,  1.86467454e-01, -2.23637745e-01,  9.29636508e-02,\n",
       "        9.50634778e-02,  7.21035451e-02, -5.09699732e-02,  1.63130283e-01,\n",
       "        2.70930350e-01, -7.73169473e-02,  2.02353612e-01,  3.38173099e-02,\n",
       "        2.29136050e-02, -2.01253872e-03,  2.13453621e-01,  9.46427733e-02,\n",
       "       -1.35242671e-01, -1.79061398e-01, -1.52147233e-01, -7.57486075e-02,\n",
       "       -2.41839103e-02,  3.63576412e-02, -1.33079901e-01, -8.45753476e-02,\n",
       "        2.07529187e-01,  2.64896393e-01, -6.72187358e-02,  8.16533267e-02,\n",
       "        5.72355813e-04,  1.23174623e-01, -3.43530290e-02, -6.48740027e-03,\n",
       "        1.87398097e-03, -8.93447548e-02,  5.13894521e-02, -5.90131693e-02,\n",
       "        1.21083565e-01,  4.21222579e-03, -2.49112830e-01, -3.88619453e-02,\n",
       "       -4.41586673e-02, -9.32418276e-03,  2.56622583e-01, -1.08767122e-01,\n",
       "        6.54963031e-02, -2.38507196e-01,  3.90196480e-02, -4.97397631e-02,\n",
       "        1.29295066e-02,  1.24441653e-01, -9.25414413e-02,  5.81429973e-02,\n",
       "        4.24945951e-02,  2.75196228e-02, -1.49007916e-01, -9.12206024e-02],\n",
       "      dtype=float32)"
      ]
     },
     "execution_count": 18,
     "metadata": {},
     "output_type": "execute_result"
    }
   ],
   "source": [
    "search_vector\n"
   ]
  },
  {
   "cell_type": "code",
   "execution_count": 19,
   "id": "2878bf34-4872-42a9-b1c5-0c8699fb11f1",
   "metadata": {},
   "outputs": [
    {
     "data": {
      "text/html": [
       "<div>\n",
       "<style scoped>\n",
       "    .dataframe tbody tr th:only-of-type {\n",
       "        vertical-align: middle;\n",
       "    }\n",
       "\n",
       "    .dataframe tbody tr th {\n",
       "        vertical-align: top;\n",
       "    }\n",
       "\n",
       "    .dataframe thead th {\n",
       "        text-align: right;\n",
       "    }\n",
       "</style>\n",
       "<table border=\"1\" class=\"dataframe\">\n",
       "  <thead>\n",
       "    <tr style=\"text-align: right;\">\n",
       "      <th></th>\n",
       "      <th>distances</th>\n",
       "      <th>ann</th>\n",
       "      <th>text</th>\n",
       "      <th>category</th>\n",
       "    </tr>\n",
       "  </thead>\n",
       "  <tbody>\n",
       "    <tr>\n",
       "      <th>0</th>\n",
       "      <td>0.406799</td>\n",
       "      <td>2</td>\n",
       "      <td>Network Access Control?</td>\n",
       "      <td>networking</td>\n",
       "    </tr>\n",
       "    <tr>\n",
       "      <th>1</th>\n",
       "      <td>1.353900</td>\n",
       "      <td>0</td>\n",
       "      <td>Where are your headquarters located?</td>\n",
       "      <td>location</td>\n",
       "    </tr>\n",
       "    <tr>\n",
       "      <th>2</th>\n",
       "      <td>1.509918</td>\n",
       "      <td>3</td>\n",
       "      <td>Address</td>\n",
       "      <td>location</td>\n",
       "    </tr>\n",
       "    <tr>\n",
       "      <th>3</th>\n",
       "      <td>1.804461</td>\n",
       "      <td>1</td>\n",
       "      <td>Throw my cellphone in the water</td>\n",
       "      <td>random</td>\n",
       "    </tr>\n",
       "  </tbody>\n",
       "</table>\n",
       "</div>"
      ],
      "text/plain": [
       "   distances  ann                                  text    category\n",
       "0   0.406799    2               Network Access Control?  networking\n",
       "1   1.353900    0  Where are your headquarters located?    location\n",
       "2   1.509918    3                               Address    location\n",
       "3   1.804461    1       Throw my cellphone in the water      random"
      ]
     },
     "execution_count": 19,
     "metadata": {},
     "output_type": "execute_result"
    }
   ],
   "source": [
    "k = 4\n",
    "distances, ann = index.search(_vector, k=k)\n",
    "\n",
    "results = pd.DataFrame({'distances': distances[0], 'ann': ann[0]})\n",
    "\n",
    "merge = pd.merge(results,df,left_on='ann',right_index=True)\n",
    "\n",
    "merge.head()"
   ]
  },
  {
   "cell_type": "code",
   "execution_count": null,
   "id": "2c55674e-49e5-4958-b316-6e38bf654417",
   "metadata": {},
   "outputs": [],
   "source": []
  },
  {
   "cell_type": "code",
   "execution_count": null,
   "id": "7f5410b7-b956-4cfd-a50f-175850a75a75",
   "metadata": {},
   "outputs": [],
   "source": []
  }
 ],
 "metadata": {
  "kernelspec": {
   "display_name": "Python (venv)",
   "language": "python",
   "name": "venv"
  },
  "language_info": {
   "codemirror_mode": {
    "name": "ipython",
    "version": 3
   },
   "file_extension": ".py",
   "mimetype": "text/x-python",
   "name": "python",
   "nbconvert_exporter": "python",
   "pygments_lexer": "ipython3",
   "version": "3.13.1"
  }
 },
 "nbformat": 4,
 "nbformat_minor": 5
}
